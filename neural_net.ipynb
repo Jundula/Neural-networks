{
  "nbformat": 4,
  "nbformat_minor": 0,
  "metadata": {
    "colab": {
      "provenance": [],
      "authorship_tag": "ABX9TyOocBD2jBBdGdZ9uLYzkRR0",
      "include_colab_link": true
    },
    "kernelspec": {
      "name": "python3",
      "display_name": "Python 3"
    },
    "language_info": {
      "name": "python"
    }
  },
  "cells": [
    {
      "cell_type": "markdown",
      "metadata": {
        "id": "view-in-github",
        "colab_type": "text"
      },
      "source": [
        "<a href=\"https://colab.research.google.com/github/Jundula/Neural-networks/blob/main/neural_net.ipynb\" target=\"_parent\"><img src=\"https://colab.research.google.com/assets/colab-badge.svg\" alt=\"Open In Colab\"/></a>"
      ]
    },
    {
      "cell_type": "markdown",
      "source": [
        "**Video 2**"
      ],
      "metadata": {
        "id": "xlnfv2dUwHwj"
      }
    },
    {
      "cell_type": "code",
      "execution_count": null,
      "metadata": {
        "id": "kSUu5ZlSECQe",
        "colab": {
          "base_uri": "https://localhost:8080/"
        },
        "outputId": "680d46a7-df58-4c8f-8241-404cf798ed98"
      },
      "outputs": [
        {
          "output_type": "stream",
          "name": "stdout",
          "text": [
            "[4.8, 1.21, 2.385]\n"
          ]
        }
      ],
      "source": [
        "inputs = [1, 2, 3, 2.5]\n",
        "weights1 = [0.2, 0.8, -0.5, 1.0]\n",
        "weights2 = [0.5, -0.91, 0.26, -0.5]\n",
        "weights3 = [-0.26, -0.27, 0.17, 0.87]\n",
        "bias1 = 2\n",
        "bias2 = 3\n",
        "bias3 = 0.5\n",
        "\n",
        "output = [inputs[0]*weights1[0] + inputs[1]*weights1[1] + inputs[2]*weights1[2] + inputs[3]*weights1[3] + bias1,\n",
        "          inputs[0]*weights2[0] + inputs[1]*weights2[1] + inputs[2]*weights2[2] + inputs[3]*weights2[3] + bias2,\n",
        "          inputs[0]*weights3[0] + inputs[1]*weights3[1] + inputs[2]*weights3[2] + inputs[3]*weights3[3] + bias3]\n",
        "print(output)"
      ]
    },
    {
      "cell_type": "markdown",
      "source": [
        "**video 3**"
      ],
      "metadata": {
        "id": "3buqfwxqwPsI"
      }
    },
    {
      "cell_type": "code",
      "source": [
        "inputs = [1, 2, 3, 2.5]\n",
        "\n",
        "weights = [[0.2, 0.8, -0.5, 1.0],\n",
        "           [0.5, -0.91, 0.26, -0.5],\n",
        "           [-0.26, -0.27, 0.17, 0.87]]\n",
        "\n",
        "biases = [2, 3, 0.5]\n",
        "\n",
        "layer_outputs = [] #output of current layer\n",
        "for neuron_weights, neuron_bias in zip(weights, biases):\n",
        "    neuron_output = 0 #output of given neuron\n",
        "\n",
        "    for n_input, weight in zip(inputs, neuron_weights):\n",
        "        neuron_output += n_input*weight\n",
        "    neuron_output += neuron_bias\n",
        "    layer_outputs.append(neuron_output)\n",
        "\n",
        "print(layer_outputs)\n",
        "\n"
      ],
      "metadata": {
        "colab": {
          "base_uri": "https://localhost:8080/"
        },
        "id": "aLS3yywzros8",
        "outputId": "334589a8-2fec-4451-a899-633c0853e868"
      },
      "execution_count": null,
      "outputs": [
        {
          "output_type": "stream",
          "name": "stdout",
          "text": [
            "[4.8, 1.21, 2.385]\n"
          ]
        }
      ]
    },
    {
      "cell_type": "code",
      "source": [
        "import numpy as np\n",
        "\n",
        "inputs = [1, 2, 3, 2.5]\n",
        "weights =[[0.2, 0.8, -0.5, 1.0],\n",
        "          [0.5, -0.91, 0.26, -0.5],\n",
        "          [-0.26, -0.27, 0.17, 0.87]]\n",
        "\n",
        "biases = [2, 3, 0.5]\n",
        "\n",
        "output = np.dot(weights,inputs) + biases #pass weights first because we want the indexes by weight\n",
        "\n",
        "print(output)\n",
        "\n"
      ],
      "metadata": {
        "colab": {
          "base_uri": "https://localhost:8080/"
        },
        "id": "9E-h2wnqB8ml",
        "outputId": "382271e2-7c18-4990-dd2c-4821cb8b9198"
      },
      "execution_count": null,
      "outputs": [
        {
          "output_type": "stream",
          "name": "stdout",
          "text": [
            "[4.8   1.21  2.385]\n"
          ]
        }
      ]
    },
    {
      "cell_type": "markdown",
      "source": [
        "**Video 4**"
      ],
      "metadata": {
        "id": "t64l3py_rKE4"
      }
    },
    {
      "cell_type": "code",
      "source": [
        "import numpy as np\n",
        "\n",
        "inputs = [[1, 2, 3, 2.5],\n",
        "         [2.0,5.0,-1.0,2.0],\n",
        "         [-1.5,2.7,3.3,-0.8]]\n",
        "\n",
        "weights =[[0.2, 0.8, -0.5, 1.0],\n",
        "          [0.5, -0.91, 0.26, -0.5],\n",
        "          [-0.26, -0.27, 0.17, 0.87]]\n",
        "\n",
        "biases = [2, 3, 0.5]\n",
        "\n",
        "output = np.dot(inputs,np.array(weights).T,) + biases #pass weights first because we want the indexes by weight\n",
        "\n",
        "print(output)\n"
      ],
      "metadata": {
        "id": "mgKSLt6-rMkZ",
        "colab": {
          "base_uri": "https://localhost:8080/"
        },
        "outputId": "e07f9e94-a3dc-41e4-8223-dac9fb3684df"
      },
      "execution_count": null,
      "outputs": [
        {
          "output_type": "stream",
          "name": "stdout",
          "text": [
            "[[ 4.8    1.21   2.385]\n",
            " [ 8.9   -1.81   0.2  ]\n",
            " [ 1.41   1.051  0.026]]\n"
          ]
        }
      ]
    },
    {
      "cell_type": "code",
      "source": [
        "import numpy as np\n",
        "np.random.seed(0)\n",
        "\n",
        "X = [[1, 2, 3, 2.5],\n",
        "    [2.0,5.0,-1.0,2.0],\n",
        "    [-1.5,2.7,3.3,-0.8]]\n",
        "\n",
        "class Layer_Dense:\n",
        "    def __init__(self, n_inputs, n_neurons):\n",
        "      self.weights = 0.1 * np.random.randn(n_inputs, n_neurons)\n",
        "      self.biases = np.zeros((1, n_neurons))\n",
        "    def forward(self, inputs):\n",
        "       self.output = np.dot(inputs, self.weights) + self.biases\n",
        "\n",
        "layer1 = Layer_Dense(4, 5)\n",
        "layer2 = Layer_Dense(5, 2)\n",
        "\n",
        "layer1.forward(X)\n",
        "layer2.forward(layer1.output)\n",
        "\n",
        "\n",
        "print(layer2.output)"
      ],
      "metadata": {
        "colab": {
          "base_uri": "https://localhost:8080/"
        },
        "id": "FRZWwbIWFPNj",
        "outputId": "6a11780e-2299-49b9-b278-c39aacf7fa24"
      },
      "execution_count": null,
      "outputs": [
        {
          "output_type": "stream",
          "name": "stdout",
          "text": [
            "[[ 0.148296   -0.08397602]\n",
            " [ 0.14100315 -0.01340469]\n",
            " [ 0.20124979 -0.07290616]]\n"
          ]
        }
      ]
    },
    {
      "cell_type": "markdown",
      "source": [
        "**Video 5**"
      ],
      "metadata": {
        "id": "wmPmnUYCPd13"
      }
    },
    {
      "cell_type": "code",
      "source": [
        "import numpy as np\n",
        "np.random.seed(0)\n",
        "\n",
        "X = [[1, 2, 3, 2.5],\n",
        "    [2.0,5.0,-1.0,2.0],\n",
        "    [-1.5,2.7,3.3,-0.8]]\n",
        "\n",
        "inputs = [0, 2, -1, 3.3, -2.7, 1.1, 2.2, -100]\n",
        "\n",
        "output = []\n",
        "\n",
        "for i in inputs:\n",
        "    if i > 0:\n",
        "        output.append(i)\n",
        "    elif i >= 0:\n",
        "        output.append(0)\n",
        "\n",
        "    # output.append(max(0, i))\n",
        "\n",
        "print(output)\n",
        "\n"
      ],
      "metadata": {
        "colab": {
          "base_uri": "https://localhost:8080/"
        },
        "id": "qJqNbsEAHi1b",
        "outputId": "bd3de85c-d401-467a-9e2e-5f2087602fea"
      },
      "execution_count": null,
      "outputs": [
        {
          "output_type": "stream",
          "name": "stdout",
          "text": [
            "[0, 2, 3.3, 1.1, 2.2]\n"
          ]
        }
      ]
    },
    {
      "cell_type": "code",
      "source": [
        "!pip install nnfs"
      ],
      "metadata": {
        "colab": {
          "base_uri": "https://localhost:8080/"
        },
        "id": "qENkKE-L0UEI",
        "outputId": "d20420a6-0b24-46d8-8cf1-f30caa4c814a"
      },
      "execution_count": null,
      "outputs": [
        {
          "output_type": "stream",
          "name": "stdout",
          "text": [
            "Collecting nnfs\n",
            "  Downloading nnfs-0.5.1-py3-none-any.whl.metadata (1.7 kB)\n",
            "Requirement already satisfied: numpy in /usr/local/lib/python3.10/dist-packages (from nnfs) (1.26.4)\n",
            "Downloading nnfs-0.5.1-py3-none-any.whl (9.1 kB)\n",
            "Installing collected packages: nnfs\n",
            "Successfully installed nnfs-0.5.1\n"
          ]
        }
      ]
    },
    {
      "cell_type": "code",
      "source": [
        "import numpy as np\n",
        "import nnfs\n",
        "from nnfs.datasets import spiral_data\n",
        "nnfs.init()\n",
        "\n",
        "X = [[1, 2, 3, 2.5],\n",
        "    [2.0,5.0,-1.0,2.0],\n",
        "    [-1.5,2.7,3.3,-0.8]]\n",
        "\n",
        "X, y = spiral_data(100, 3)\n",
        "\n",
        "class Layer_Dense:\n",
        "    def __init__(self, n_inputs, n_neurons):\n",
        "      self.weights = 0.1 * np.random.randn(n_inputs, n_neurons)\n",
        "      self.biases = np.zeros((1, n_neurons))\n",
        "    def forward(self, inputs):\n",
        "       self.output = np.dot(inputs, self.weights) + self.biases\n",
        "\n",
        "class Activation_ReLU:\n",
        "    def forward(self, inputs):\n",
        "        self.output = np.maximum(0, inputs)\n",
        "\n",
        "\n",
        "layer1 = Layer_Dense(2, 5)\n",
        "activation1 = Activation_ReLU()\n",
        "\n",
        "layer1.forward(X)\n",
        "print(layer1.output)\n",
        "activation1.forward(layer1.output)\n",
        "print(activation1.output)"
      ],
      "metadata": {
        "colab": {
          "base_uri": "https://localhost:8080/"
        },
        "id": "RfptD6CZFSlj",
        "outputId": "199660c4-fe2f-4319-f423-bb458b9dc8d8"
      },
      "execution_count": 7,
      "outputs": [
        {
          "output_type": "stream",
          "name": "stdout",
          "text": [
            "[[ 0.00000000e+00  0.00000000e+00  0.00000000e+00  0.00000000e+00\n",
            "   0.00000000e+00]\n",
            " [-8.35815910e-04 -7.90404272e-04 -1.33452227e-03  4.65504505e-04\n",
            "   4.56846210e-05]\n",
            " [-2.39994470e-03  5.93469958e-05 -2.24808278e-03  2.03573116e-04\n",
            "   6.10024377e-04]\n",
            " ...\n",
            " [ 1.13291524e-01 -1.89262271e-01 -2.06855070e-02  8.11079666e-02\n",
            "  -6.71350807e-02]\n",
            " [ 1.34588361e-01 -1.43197834e-01  3.09493970e-02  5.66337556e-02\n",
            "  -6.29687458e-02]\n",
            " [ 1.07817926e-01 -2.00809643e-01 -3.37579325e-02  8.72561932e-02\n",
            "  -6.81458861e-02]]\n",
            "[[0.00000000e+00 0.00000000e+00 0.00000000e+00 0.00000000e+00\n",
            "  0.00000000e+00]\n",
            " [0.00000000e+00 0.00000000e+00 0.00000000e+00 4.65504505e-04\n",
            "  4.56846210e-05]\n",
            " [0.00000000e+00 5.93469958e-05 0.00000000e+00 2.03573116e-04\n",
            "  6.10024377e-04]\n",
            " ...\n",
            " [1.13291524e-01 0.00000000e+00 0.00000000e+00 8.11079666e-02\n",
            "  0.00000000e+00]\n",
            " [1.34588361e-01 0.00000000e+00 3.09493970e-02 5.66337556e-02\n",
            "  0.00000000e+00]\n",
            " [1.07817926e-01 0.00000000e+00 0.00000000e+00 8.72561932e-02\n",
            "  0.00000000e+00]]\n"
          ]
        }
      ]
    },
    {
      "cell_type": "markdown",
      "source": [
        "**Video 6**"
      ],
      "metadata": {
        "id": "hJaKBPCi5Hx1"
      }
    },
    {
      "cell_type": "code",
      "source": [
        "import math\n",
        "\n",
        "layer_outputs = [4.8, 1.21, 2.385]\n",
        "\n",
        "E= math.e\n",
        "\n",
        "exp_values = []\n",
        "\n",
        "for output in layer_outputs:\n",
        "     exp_values.append(E**output)\n",
        "\n",
        "\n",
        "\n",
        "print(exp_values)\n",
        "\n",
        "norm_base = sum(exp_values)\n",
        "norm_values = []\n",
        "\n",
        "for value in exp_values:\n",
        "    norm_values.append(value / norm_base)\n",
        "\n",
        "print(norm_values)\n",
        "print(sum(norm_values))\n",
        "\n",
        "\n"
      ],
      "metadata": {
        "colab": {
          "base_uri": "https://localhost:8080/"
        },
        "id": "f9ygoMpg5Mtd",
        "outputId": "5e83350a-abc8-4954-bc1b-2d3af3a5bcd0"
      },
      "execution_count": 10,
      "outputs": [
        {
          "output_type": "stream",
          "name": "stdout",
          "text": [
            "[121.51041751873483, 3.353484652549023, 10.859062664920513]\n",
            "[0.8952826639572619, 0.024708306782099374, 0.0800090292606387]\n",
            "0.9999999999999999\n"
          ]
        }
      ]
    },
    {
      "cell_type": "code",
      "source": [],
      "metadata": {
        "id": "9A62xa32M_ev"
      },
      "execution_count": null,
      "outputs": []
    }
  ]
}